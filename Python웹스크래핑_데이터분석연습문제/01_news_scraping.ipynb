{
 "cells": [
  {
   "cell_type": "markdown",
   "id": "0419150d",
   "metadata": {},
   "source": [
    "1. 질문:  아래의 url에서 뉴스기사의 링크와 제목을 출력하세요."
   ]
  },
  {
   "cell_type": "code",
   "execution_count": null,
   "id": "cb7fbb63",
   "metadata": {},
   "outputs": [
    {
     "name": "stdout",
     "output_type": "stream",
     "text": [
      "<class 'requests.models.Response'>\n",
      "200\n",
      "해외서 발 뺀 이중항체, 韓 기업들이 이끈다\n",
      "https://v.daum.net/v/20250408154329660\n",
      "탄핵 끝났는데 韓경제 ‘봄’은 언제 오나…박근혜 때와 다른 이유\n",
      "https://v.daum.net/v/20250408153003030\n",
      "경상수지 흑자행진에도… 한은 “美 관세에 불확실성 확대”\n",
      "https://v.daum.net/v/20250408152923007\n",
      "국제유가 하락에 흔들리는 정유업계…실적 먹구름 짙어진다\n",
      "https://v.daum.net/v/20250408144527816\n",
      "갤25로 실적 선방…삼성, 관세로 2분기는 불투명\n",
      "https://v.daum.net/v/20250408143527180\n",
      "조양호 한진그룹 선대회장 6주기… ‘45년 항공산업’ 리더십 재조명\n",
      "https://v.daum.net/v/20250408140753767\n",
      "미국 최대 은행이 \"여성 경영인이 경제 원동력\"이라 말한 이유\n",
      "https://v.daum.net/v/20250408140302580\n",
      "불평등 부채질하는 재난: 환경부는 약자 비명 듣고 있나요?\n",
      "https://v.daum.net/v/20250408124446384\n",
      "\"아무도 대신 챙겨주지 않습니다\" 퇴직금으론 부족한 은퇴 후 삶 \"개인 연금 중요\"\n",
      "https://v.daum.net/v/20250408121010759\n",
      "코스피, 상승폭 반납 0.26%↑마감…환율 금융위기 이후 최고점\n",
      "https://v.daum.net/v/20250408155708281\n",
      "'10조 추경' 정부안 다음주 공개…선제적 추경 편성 나선 이유는?\n",
      "https://v.daum.net/v/20250408155135060\n",
      "해양진흥공사, 해운·항만·물류 ‘AI 확산’ 속도 낸다\n",
      "https://v.daum.net/v/20250408155024997\n",
      "무협, 미 상무부에 \"한국산 구리제품, 국가안보 저해 위험 없어\"\n",
      "https://v.daum.net/v/20250408154810878\n",
      "삼성전자, '갤S25' 날개 달고 깜짝 실적 거뒀다\n",
      "https://v.daum.net/v/20250408155604238\n",
      "삼성·SK·LG, 차분한 창립기념일…경영 위기 속 창업 정신 강조\n",
      "https://v.daum.net/v/20250408155022994\n",
      "갈 길 먼데 극한 치닫는 미·중 갈등…국내 배터리, 불똥 튈까 노심초사\n",
      "https://v.daum.net/v/20250408154840912\n",
      "LS전선, 대한전선에 '특허소송' 최종 승소… 양측 상고 않기로\n",
      "https://v.daum.net/v/20250408154258642\n",
      "8거래일 동안 10조 판 외국인…패닉셀 중에도 이 주식은 샀다\n",
      "https://v.daum.net/v/20250408155627255\n",
      "변동성 장세에도 정치 테마주 훨훨…빚내서 달려든 개미들\n",
      "https://v.daum.net/v/20250408155548221\n",
      "금융위, '자본시장전략포럼' 개최…\"자본시장 선진화 정책 지속\"\n",
      "https://v.daum.net/v/20250408153552336\n",
      "첫 '자본시장전략포럼' 개최…기업 밸류업‧자사주 소각 등 긍정평가\n",
      "https://v.daum.net/v/20250408150004621\n",
      "\"이번엔 술자리 면접 논란\"…더본코리아, 상장 이후 최저가 추락\n",
      "https://v.daum.net/v/20250408155132056\n",
      "애플 주가 3거래일간 19% 급락...시총 940조원 증발\n",
      "https://v.daum.net/v/20250408153313206\n",
      "지방 1위도 따라잡혔다…‘영업한계 봉착’ 지방은행, 인뱅과 협업 나선다\n",
      "https://v.daum.net/v/20250408153301176\n",
      "C커머스 공습 경고하더니···‘알리 카드’ 판매 열올리는 신한\n",
      "https://v.daum.net/v/20250408152913003\n",
      "LH 업무의 조달청 이관 1년만에 전관 예우 근절\n",
      "https://v.daum.net/v/20250408154632795\n",
      "‘최고가’ 찍은 ‘이재명 아파트’ 양지1단지금호…‘재건축 호재’로 들썩이는 분당\n",
      "https://v.daum.net/v/20250408154017541\n",
      "[교통시대]서울~부산 20분, '하이퍼튜브' 언제 올까?\n",
      "https://v.daum.net/v/20250408153703400\n",
      "시멘트 질소산화물 95% 저감 첫발은 뗐지만…전국 적용 설치비 1조 업계 부담 커\n",
      "https://v.daum.net/v/20250408153600346\n",
      "\"스테이블코인 투자자 38%, 송금·달러 보유 목적으로 활용\"\n",
      "https://v.daum.net/v/20250408141329033\n",
      "비트코인, 관세유예 가짜뉴스에도 8만달러대 회복[매일코인]\n",
      "https://v.daum.net/v/20250408141206954\n",
      "비트코인, '블랙먼데이' 하루 만에 소폭 반등…1억1800만원대\n",
      "https://v.daum.net/v/20250408094246273\n",
      "[Q&AI] 美 관세 쇼크에 비트코인 급락… AI에게 물어보니\n",
      "https://v.daum.net/v/20250407195548903\n",
      "\"아무도 대신 챙겨주지 않습니다\" 퇴직금으론 부족한 은퇴 후 삶 \"개인 연금 중요\"\n",
      "https://v.daum.net/v/20250408121010759\n",
      "연금개혁은 세대 갈라치기? “재정 투입해 소득보장성 강화해야”\n",
      "https://v.daum.net/v/20250408111401177\n",
      "\"기금형 퇴직연금, 국민연금과 달라…사각지대 근로자 품어야\"[이슈인터뷰]\n",
      "https://v.daum.net/v/20250408110625822\n",
      "국회 연금특위 본격 가동···\"자동조정장치 핵심의제로\"[Pick코노미]\n",
      "https://v.daum.net/v/20250408070101889\n",
      "서울시, 청년취업사관학교 3곳 ‘AI특화캠퍼스’로 재편\n",
      "https://v.daum.net/v/20250408152831975\n",
      "정년 연장에 '청년 고통'…취준생 일자리 11만개 사라졌다\n",
      "https://v.daum.net/v/20250408120454629\n",
      "'그냥 쉬는' 청년 2년째 증가…\"양질의 일자리 늘어야\"\n",
      "https://v.daum.net/v/20250408120312587\n",
      "[재취업지원서비스 교육] 기업 퇴직예정자 위한 ‘진로설계 교육 & 1:1 비대면 컨설팅 프로그램’ 운영\n",
      "https://v.daum.net/v/20250408120310581\n",
      "트레이더스, 가전업계 '큰손' 떠올랐다..비결은\n",
      "https://v.daum.net/v/20250408150811028\n",
      "트럼프 관세폭탄보다 무서운 저출생… '성인 과자' 키우는 롯데웰푸드\n",
      "https://v.daum.net/v/20250408145702447\n",
      "[단독]쿠팡, 현대·롯데·GS홈쇼핑 판매 중단…'채널간 갈등 고조'\n",
      "https://v.daum.net/v/20250408144602851\n",
      "반올림피자, 법인명 '피자앤컴퍼니' 변경…\"올해 최대 영업익 목표\"\n",
      "https://v.daum.net/v/20250408142826802\n",
      "“같이 일할 스타트업 어디 없소?”...KB 벤처 영토 확대\n",
      "https://v.daum.net/v/20250408100902613\n",
      "페이워크, 금융 빅데이터 스타트업 지원사업 2년 연속 선정\n",
      "https://v.daum.net/v/20250408095016649\n",
      "‘납품 무기한 연기’...관세폭탄에 中企 고사위기 “대기업보다 타격 더 크다”\n",
      "https://v.daum.net/v/20250408060046024\n",
      "스타트업들의 역발상… 혹한기에 인프라 투자 경쟁\n",
      "https://v.daum.net/v/20250408003119973\n",
      "美 재계 '큰손'들, 트럼프 관세 정책 맹비난 \"헛소리\"\n",
      "https://v.daum.net/v/20250408155150069\n",
      "트럼프 관세 공격 대비 마친 中… 관영 매체 “최소 6가지 수 준비”\n",
      "https://v.daum.net/v/20250408153759437\n",
      "日 환율협상, EU 車무관세 카드 던졌다 …중국은 또 보복?\n",
      "https://v.daum.net/v/20250408153745424\n",
      "테슬라 중고차 가격, 미국 이어 영국서도 하락\n",
      "https://v.daum.net/v/20250408151221181\n",
      "2022년식 카니발∙싼타페 시세 하락\n",
      "https://v.daum.net/v/20250408154945963\n",
      "수입차 \"美 관세에 가격 인상\" vs 현대차 \"버티기\"\n",
      "https://v.daum.net/v/20250408154306651\n",
      "기아, 밀라노서 디자인 철학 ‘오퍼짓 유나이티드’ 알린다\n",
      "https://v.daum.net/v/20250408154220620\n",
      "KG모빌리티, 상품성 높인 ‘토레스 EVX 알파’ 출시\n",
      "https://v.daum.net/v/20250408153601350\n",
      "우주 대항해 시대\n",
      "https://dailyquiz.chosun.com/\n",
      "윤석열 탄핵, 헌재는 어떻게 판결했나\n",
      "https://www.khan.co.kr/kh_storytelling/2025/impeach/\n",
      "[인사]원자력안전위원회\n",
      "https://v.daum.net/v/20250408155716290\n",
      "코스피, 상승폭 반납 0.26%↑마감…환율 금융위기 이후 최고점\n",
      "https://v.daum.net/v/20250408155708281\n",
      "지난해 금감원 금융민원 24% 급증…홍콩 ELS·티메프 사태 영향\n",
      "https://v.daum.net/v/20250408155704276\n",
      "한국부동산학박사회, 총회·등산대회 개최\n",
      "https://v.daum.net/v/20250408155700266\n",
      "\"시장, 이성 잃었다\" 삼성전자에 개인 매수, 외인·기관 매도\n",
      "https://v.daum.net/v/20250408155653262\n",
      "1년 대출 이자가 원금 보다  많으면 원금·이자 모두 무효된다\n",
      "https://v.daum.net/v/20250408155639257\n",
      "8거래일 동안 10조 판 외국인…패닉셀 중에도 이 주식은 샀다\n",
      "https://v.daum.net/v/20250408155627255\n",
      "삼성전자, '갤S25' 날개 달고 깜짝 실적 거뒀다\n",
      "https://v.daum.net/v/20250408155604238\n",
      "변동성 장세에도 정치 테마주 훨훨…빚내서 달려든 개미들\n",
      "https://v.daum.net/v/20250408155548221\n",
      "'충북 공사실적 1위' 대흥건설, 자금난에 법정관리 준비\n",
      "https://v.daum.net/v/20250408155518202\n",
      "의협 \"지난해 2월 전으로 돌아가야\"…정부·국회에 '대화' 요구(종합)\n",
      "https://v.daum.net/v/20250408155713289\n",
      "헌법재판관 지명 한덕수…'차출론'엔 \"대선 'ㄷ'도 안돼\"(종합)\n",
      "https://v.daum.net/v/20250408155341135\n",
      "中, 트럼프 '50% 추가관세' 경고 일축…\"끝까지 맞설 것\"(종합)\n",
      "https://v.daum.net/v/20250408155313112\n",
      "21대 대통령 선거일 '6월 3일 화요일' 확정…임시공휴일 지정(종합2보)\n",
      "https://v.daum.net/v/20250408154813885\n",
      "미-이란 12일 오만서 핵협상…트럼프 \"아주 큰 회담\"(종합)\n",
      "https://v.daum.net/v/20250408154347671\n",
      "시멘트 질소산화물 95% 저감 첫발은 뗐지만…전국 적용 설치비 1조 업계 부담 커\n",
      "https://v.daum.net/v/20250408153600346\n",
      "23명 목숨 앗아간 화성 씨랜드 참사, 26년 만에 '치유의 공간'으로[르포]\n",
      "https://v.daum.net/v/20250408150617956\n",
      "[르포]역대 최악 국립공원 산불…“진화 헬기 부재, 골든타임 놓쳤다”\n",
      "https://v.daum.net/v/20250408144709910\n",
      "[현장] 화마(火魔)가 삼킨 수 천 년 생명…1대뿐인 헬기는 힘도 못 썼다\n",
      "https://v.daum.net/v/20250408133123497\n",
      "“집회 끝나면 손님 올 줄 알았는데… 외국인 관광객 발길마저 끊겼어요”\n",
      "https://v.daum.net/v/20250408115414108\n",
      "[르포] 떠날 땐 대통령이었지만…'파면 尹' 복귀에 사저 주민들 '침묵'\n",
      "https://v.daum.net/v/20250408114928910\n",
      "[르포]산불 진화요원의 한숨 \"80년 된 나무가 죽었네요…헬기만 있었어도\"\n",
      "https://v.daum.net/v/20250408110037410\n",
      "[르포] '수천 명 사망' 절망 속에서 태어난 아기의 첫 울음소리...이웃이 희망이었다\n",
      "https://v.daum.net/v/20250408080003749\n",
      "고침, 정정・반론 보도 모음\n",
      "https://news.daum.net/correct\n",
      "다음채널 제휴 안내\n",
      "https://with.kakao.com/media\n",
      "다음뉴스 고객센터\n",
      "https://cs.daum.net/faq/63.html\n",
      "다음뉴스 제휴 언론사\n",
      "https://news.daum.net/cplist\n"
     ]
    }
   ],
   "source": [
    "import requests\n",
    "from bs4 import BeautifulSoup\n",
    "\n",
    "url = 'https://news.daum.net/economy'\n",
    "req_header = {\n",
    "    'user-agent': 'Mozilla/5.0 (Windows NT 10.0; Win64; x64) AppleWebKit/537.36 (KHTML, like Gecko) Chrome/135.0.0.0 Safari/537.36'\n",
    "}\n",
    "\n",
    "res = requests.get(url, headers=req_header)\n",
    "res.encoding = 'utf-8'  # 또는 res.encoding = 'utf-8'\n",
    "\n",
    "print(type(res))\n",
    "print(res.status_code)\n",
    "\n",
    "if res.ok:\n",
    "    soup = BeautifulSoup(res.text, 'html.parser')  \n",
    "    articles = soup.select(\"strong.tit_txt\")\n",
    "    \n",
    "    for article in articles:\n",
    "        title = article.get_text(strip=True)\n",
    "        link_tag = article.find_parent('a')\n",
    "        link = link_tag['href']\n",
    "        print(title)\n",
    "        print(link)\n",
    "else:\n",
    "    print(f'Error Code: {res.status_code}')\n"
   ]
  },
  {
   "cell_type": "markdown",
   "id": "9bc86618",
   "metadata": {},
   "source": [
    "2. 질문:  여러개의 section 중 하나를 선택해서 url에서 뉴스기사의 링크와 제목을 출력하는 코드를 함수로 작성하기"
   ]
  },
  {
   "cell_type": "code",
   "execution_count": 23,
   "id": "a3807426",
   "metadata": {},
   "outputs": [
    {
     "name": "stdout",
     "output_type": "stream",
     "text": [
      "======> https://news.daum.net/society 사회 뉴스 <======\n",
      "\n",
      "‘기간제 교사’ 증원으로 특수학급 과밀도 개선? “임시방편 말고 근본 대책 필요”\n",
      "https://v.daum.net/v/20250408155536215\n",
      "\n",
      "\"AI디지털교과서, 보완할 점 문제로 추려 제공해 좋다\"\n",
      "https://v.daum.net/v/20250408155258101\n",
      "\n",
      "노무현 향해 “검찰 인사권 넘겨라”…‘검사스럽다’의 원조 이완규\n",
      "https://v.daum.net/v/20250408154509732\n",
      "\n",
      "한양대, 세포 내소기관 대사 실시간 모니터링 기술 개발\n",
      "https://v.daum.net/v/20250408154508731\n",
      "\n",
      "'서울형 기초학력' 지원체계 시작...고1 경계선지능 조사\n",
      "https://v.daum.net/v/20250408153816451\n",
      "\n",
      "여성 10명 중 6명 '경력단절 경험'… \"결혼·출산이 주요 원인\"\n",
      "https://v.daum.net/v/20250408153752427\n",
      "\n",
      "딸 옷 입고 100일째 추모관 가는 엄마 \"내 몸 하나가 없어진 것 같아요\"\n",
      "https://v.daum.net/v/20250408152701903\n",
      "\n",
      "안산국제거리극축제, 136개 공연·프로그램으로 관객 만난다\n",
      "https://v.daum.net/v/20250408152607868\n",
      "\n",
      "강기정 \"5·18헌법·AI광주·亞문화도시조성청 신설\"…대선공약 제안\n",
      "https://v.daum.net/v/20250408151450284\n",
      "\n",
      "도봉구, 출생아 수 증가…증가율 7년 만에 마이너스 탈출\n",
      "https://v.daum.net/v/20250408140836806\n",
      "\n",
      "비혼 출산도 가족…“저출생 극복 위해 제도 개선해야”\n",
      "https://v.daum.net/v/20250407175203664\n",
      "\n",
      "\"줄어드는 팔 걷는 사람들\"... 헌혈도 저출산·고령화 직격탄\n",
      "https://v.daum.net/v/20250407112154195\n",
      "\n",
      "반복되는 산불 재난? 농촌 고령화의 그늘\n",
      "https://v.daum.net/v/20250407065509965\n",
      "\n",
      "\"30년만에 갑자기?\" 창원시 뜬금없는 소각장 공동입찰 논란\n",
      "https://v.daum.net/v/20250408143901395\n",
      "\n",
      "\"이장우 대전시장은 특별교통수단 법정대수 도입 약속 이행하라\"\n",
      "https://v.daum.net/v/20250408141800273\n",
      "\n",
      "국가 폭력 피해자에 소송 비용 청구... \"국가의 2차 가해\" 호소\n",
      "https://v.daum.net/v/20250408043101931\n",
      "\n",
      "25층 아파트에서 떨어져도, 1000℃ 넘는 포트 안으로 떨어져도…회사는 ‘안전고리’만 말하더라\n",
      "https://v.daum.net/v/20250407170803299\n",
      "\n",
      "정익중 원장 \"7월부터 국가가 책임지는 입양 체계 시작\"\n",
      "https://v.daum.net/v/20250408144712914\n",
      "\n",
      "일자리 줄고 비자발적 실업 증가…취업시장 '춘래불사춘'\n",
      "https://v.daum.net/v/20250408050003240\n",
      "\n",
      "“탄핵 이후 세상은 달라야 한다”…노동자들이 말하는 ‘윤석열 파면’\n",
      "https://v.daum.net/v/20250407185011869\n",
      "\n",
      "\"한순간도 잊은 적 없다\"…문형배가 눈물 흘린 '이 사람'\n",
      "https://v.daum.net/v/20250407175805832\n",
      "\n",
      "\"AI디지털교과서, 보완할 점 문제로 추려 제공해 좋다\"\n",
      "https://v.daum.net/v/20250408155258101\n",
      "\n",
      "대학·기업 협력해 운영하는 ‘계약정원’ 전 분야로 확대\n",
      "https://v.daum.net/v/20250408155139061\n",
      "\n",
      "'서울형 기초학력' 지원체계 시작...고1 경계선지능 조사\n",
      "https://v.daum.net/v/20250408153816451\n",
      "\n",
      "'尹탄핵' 후 기로에 선 교육 정책들··· AI 교과서도 '탄핵'당하나\n",
      "https://v.daum.net/v/20250408150021650\n",
      "\n",
      "'폭싹 속았수다' 몇 명 봤을까...콘텐츠의 정확한 가치 측정 필요해\n",
      "https://v.daum.net/v/20250408155331127\n",
      "\n",
      "YTN노조 \"내란사태에 정치적 중립? 내란잔당 셀프 인증\"\n",
      "https://v.daum.net/v/20250408150544925\n",
      "\n",
      "언론계 \"이제는 언론개혁\" 방통위·방심위 전면 개편 요구\n",
      "https://v.daum.net/v/20250408142932850\n",
      "\n",
      "선플달기운동본부 \"정치심의 논란 알아…대선 선방위 빠지겠다\"\n",
      "https://v.daum.net/v/20250408133513605\n",
      "\n",
      "성소수자 청소년 지켜온 ‘띵동’…“‘띵동’ 필요 없는 세상 됐으면” [플랫]\n",
      "https://v.daum.net/v/20250408104508557\n",
      "\n",
      "청소년 성소수자의 든든한 버팀목 10년 ‘띵동’…“달라진 내일 오겠죠?”\n",
      "https://v.daum.net/v/20250407205333664\n",
      "\n",
      "[단독] 장제원 피해자 쪽 “성폭력 혐의 판단해달라”…경찰 “검토 안 해”\n",
      "https://v.daum.net/v/20250407183506622\n",
      "\n",
      "“안희정이 제대로 사과했다면, 장제원 고소에 9년 걸렸겠나”\n",
      "https://v.daum.net/v/20250407163008785\n",
      "\n",
      "\"RSV감염증, 독감 대비 중환자실 입원율·사망 30% 높아\"\n",
      "https://v.daum.net/v/20250408154002519\n",
      "\n",
      "\"의사만 늘린다고 해결되나…간호사·의료기사 등도 고려해야\"\n",
      "https://v.daum.net/v/20250407175342704\n",
      "\n",
      "복지부 \"한국 보건의료의 미래 위해 '의료개혁' 흔들림 없이 추진\"\n",
      "https://v.daum.net/v/20250407140014055\n",
      "\n",
      "尹 파면에 의대 본과생 대부분 복귀…의대정원 제자리 총읽기?[세상&]\n",
      "https://v.daum.net/v/20250407112749566\n",
      "\n",
      "전남대병원, 체세대 스텐트 개발 '한·영 협력세미나'\n",
      "https://v.daum.net/v/20250408160931865\n",
      "\n",
      "강진군, 전남도 선정 재정집행 '우수군'\n",
      "https://v.daum.net/v/20250408160859820\n",
      "\n",
      "광양시 \"유서 깊은 4대 산성으로 여행 가자\"\n",
      "https://v.daum.net/v/20250408160811787\n",
      "\n",
      "제주신항 건설계획 고시…일도동 SK저유소, 신항 이전하나\n",
      "https://v.daum.net/v/20250408160619727\n",
      "\n",
      "'노란색 민방위복' 착용 익산시 '민생안정 대책회의'…무슨 의미 있나?\n",
      "https://v.daum.net/v/20250407144835315\n",
      "\n",
      "산불 특별재난지역 중소기업, ‘법인지방소득세’ 납부기한 3개월 연장\n",
      "https://v.daum.net/v/20250402120004160\n",
      "\n",
      "213시간 만에 주불 진화…재난지원금 지급\n",
      "https://v.daum.net/v/20250331085032396\n",
      "\n",
      "(출연) \"산에서 불났는데 바다의 배가 불 탔다\"...재난 대응체계 전환 필요\n",
      "https://v.daum.net/v/20250330164947289\n",
      "\n",
      "헌재, 18일 문형배·이미선 퇴임…6인 체제 ‘기능 마비’ 우려\n",
      "https://v.daum.net/v/20250408050503462\n",
      "\n",
      "혐오·폭력 기록하는 예술가가 탄핵 선고 날 ‘광장’으로 가는 이유\n",
      "https://v.daum.net/v/20250403093505651\n",
      "\n",
      "韓대행, 헌재 공백 없도록 문형배·이미선 후임 준비할 때[사설]\n",
      "https://v.daum.net/v/20250401114509231\n",
      "\n",
      "‘롤리타’와 미성년자의 성적 자기결정권 [서아람의 변호사 외전]\n",
      "https://v.daum.net/v/20250331231827819\n",
      "\n",
      "법정서 칫솔로 변호사 살인 미수 30대…검찰 \"항소 기각 마땅\"\n",
      "https://v.daum.net/v/20250408160256531\n",
      "\n",
      "“감옥 가면 어떻게 돼?” 명재완, 살인 예고 했다\n",
      "https://v.daum.net/v/20250408142200448\n",
      "\n",
      "'장제원 성폭력 종결 예고' 경찰... 여성단체 \"수사결과 공개하라\"\n",
      "https://v.daum.net/v/20250408141536135\n",
      "\n",
      "네차례 음주 처벌에도 또 술마시고 운전하다 2명 숨지게 한 50대\n",
      "https://v.daum.net/v/20250408135924420\n",
      "\n",
      "호주 집권 노동당 지지율 상승세···트럼프 관세 이슈 효과\n",
      "https://v.daum.net/v/20250408152716930\n",
      "\n",
      "이재명 압도적 1위라지만…무당층에선 오세훈·유승민에 밀려\n",
      "https://v.daum.net/v/20250408151436279\n",
      "\n",
      "尹 파면 후 돌아선 'PK·중도층'..민주당, 국민의힘에 오차범위 밖 우세\n",
      "https://v.daum.net/v/20250408142002374\n",
      "\n",
      "[뉴스1 PICK]‘보수 지지율 1위’ 김문수 대선 출마 선언…'오늘 장관직 사퇴'\n",
      "https://v.daum.net/v/20250408133509601\n",
      "\n",
      "강원 축협운영협의회, 경북 산불 피해 농가에 성금 전달\n",
      "https://v.daum.net/v/20250408154225625\n",
      "\n",
      "[모멘트] 환경 피해자 추모 나무 심기\n",
      "https://v.daum.net/v/20250408152713925\n",
      "\n",
      "[모멘트] 벚꽃 활짝…농사 준비로 바쁜 들녘\n",
      "https://v.daum.net/v/20250408152653896\n",
      "\n",
      "'여러분 사랑합니다'\n",
      "https://v.daum.net/v/20250408152623883\n",
      "\n",
      "'김연경, 모든 순간이 우리의 자랑입니다'\n",
      "https://v.daum.net/v/20250408152317713\n",
      "\n",
      "나는 고령 장애인입니다\n",
      "https://cbiz.chosun.com/interactive/agingsociety/intro.html\n",
      "\n",
      "숨은 농민 찾기\n",
      "https://www.khan.co.kr/kh_storytelling/2025/inequal/\n",
      "\n",
      "무안군의회, ‘탄도’ 개발사업 현장 방문\n",
      "https://v.daum.net/v/20250408161231982\n",
      "\n",
      "'훈련병 얼차려 사망' 중대장, ROTC의 '엇나간 사랑'…단톡방 모금 활동 논란\n",
      "https://v.daum.net/v/20250408161226978\n",
      "\n",
      "경북 구미서 산불…산림당국 진화 중\n",
      "https://v.daum.net/v/20250408161208970\n",
      "\n",
      "충북, 지역 대학 재학 외국인 유학생 1만 명 돌파\n",
      "https://v.daum.net/v/20250408161207968\n",
      "\n",
      "김문수 대선 출사표 “지금이 위대한 대한민국 일으켜 세워야 할 때”\n",
      "https://v.daum.net/v/20250408161207969\n",
      "\n",
      "청주시한국공예관 기획전 '사물과 감각의 연대기' 개막\n",
      "https://v.daum.net/v/20250408161206967\n",
      "\n",
      "헌법학자회의 \"한덕수 월권… 탄핵사유 해당\"\n",
      "https://v.daum.net/v/20250408161202960\n",
      "\n",
      "주차장 만들 영등포 자투리땅 알려줘요, 최대 100만원 드려요\n",
      "https://v.daum.net/v/20250408161202959\n",
      "\n",
      "\"윤석열 어게인\"…한남동 관저 앞 집회 신고 1만명, 실제론 수십명 '한산'\n",
      "https://v.daum.net/v/20250408161153952\n",
      "\n",
      "오영훈 제주지사 \"행정시장 직선제, 이미 불수용 결론\"\n",
      "https://v.daum.net/v/20250408161145946\n",
      "\n",
      "'김건희 통화폰' 알고도 놓친 검찰...김영선 폰 11대 중 4대만 압수\n",
      "https://v.daum.net/v/20250408160003397\n",
      "\n",
      "의협 \"작년 2월 전으로 돌아가야\"…정부·국회에 대화 요구(종합)\n",
      "https://v.daum.net/v/20250408155713289\n",
      "\n",
      "한덕수, 마은혁 헌법재판관 임명...대통령몫 지명권도 행사\n",
      "https://v.daum.net/v/20250408155709283\n",
      "\n",
      "순식간에 '10조 패닉셀' 외인…\"지금 최고의 주식\" OO은 샀다\n",
      "https://v.daum.net/v/20250408155627255\n",
      "\n",
      "中, 트럼프 '50% 추가관세' 경고 일축…\"끝까지 맞설 것\"(종합)\n",
      "https://v.daum.net/v/20250408155313112\n",
      "\n",
      "시멘트 질소산화물 95% 저감 첫발은 뗐지만…전국 적용 설치비 1조 업계 부담 커\n",
      "https://v.daum.net/v/20250408153600346\n",
      "\n",
      "23명 목숨 앗아간 화성 씨랜드 참사, 26년 만에 '치유의 공간'으로[르포]\n",
      "https://v.daum.net/v/20250408150617956\n",
      "\n",
      "[르포]역대 최악 국립공원 산불…“진화 헬기 부재, 골든타임 놓쳤다”\n",
      "https://v.daum.net/v/20250408144709910\n",
      "\n",
      "[현장] 화마(火魔)가 삼킨 수 천 년 생명…1대뿐인 헬기는 힘도 못 썼다\n",
      "https://v.daum.net/v/20250408133123497\n",
      "\n",
      "“집회 끝나면 손님 올 줄 알았는데… 외국인 관광객 발길마저 끊겼어요”\n",
      "https://v.daum.net/v/20250408115414108\n",
      "\n",
      "[르포] 떠날 땐 대통령이었지만…'파면 尹' 복귀에 사저 주민들 '침묵'\n",
      "https://v.daum.net/v/20250408114928910\n",
      "\n",
      "[르포]산불 진화요원의 한숨 \"80년 된 나무가 죽었네요…헬기만 있었어도\"\n",
      "https://v.daum.net/v/20250408110037410\n",
      "\n",
      "[르포] '수천 명 사망' 절망 속에서 태어난 아기의 첫 울음소리...이웃이 희망이었다\n",
      "https://v.daum.net/v/20250408080003749\n",
      "\n",
      "고침, 정정・반론 보도 모음\n",
      "https://news.daum.net/correct\n",
      "\n",
      "다음채널 제휴 안내\n",
      "https://with.kakao.com/media\n",
      "\n",
      "다음뉴스 고객센터\n",
      "https://cs.daum.net/faq/63.html\n",
      "\n",
      "다음뉴스 제휴 언론사\n",
      "https://news.daum.net/cplist\n",
      "\n"
     ]
    }
   ],
   "source": [
    "import requests\n",
    "from bs4 import BeautifulSoup\n",
    "\n",
    "# 한글 섹션명 -> URL용 영문 키\n",
    "section_dict = {\n",
    "    '기후/환경': 'climate', '사회': 'society', '경제': 'economy', '정치': 'politics',\n",
    "    '국제': 'world', '문화': 'culture', '생활': 'life', 'IT/과학': 'tech', '인물': 'people'\n",
    "}\n",
    "\n",
    "def print_news(section_name):\n",
    "    if section_name not in section_dict:\n",
    "        print(\"해당 섹션이 존재하지 않습니다.\")\n",
    "        return\n",
    "\n",
    "    section = section_dict[section_name]\n",
    "    url = f\"https://news.daum.net/{section}\"\n",
    "\n",
    "    headers = {\n",
    "        'user-agent': 'Mozilla/5.0 (Windows NT 10.0; Win64; x64) AppleWebKit/537.36 (KHTML, like Gecko) Chrome/135.0.0.0 Safari/537.36'\n",
    "    }\n",
    "\n",
    "    res = requests.get(url, headers=headers)\n",
    "    res.encoding = 'utf-8'  # 또는 res.encoding = 'utf-8'\n",
    "\n",
    "    if res.ok:\n",
    "        soup = BeautifulSoup(res.text, 'html.parser')\n",
    "        articles = soup.select(\"strong.tit_txt\")\n",
    "        print(f\"======> {url} {section_name} 뉴스 <======\\n\")\n",
    "        for article in articles:\n",
    "            title = article.get_text(strip=True)\n",
    "            link_tag = article.find_parent('a')\n",
    "            link = link_tag['href']\n",
    "            print(title)\n",
    "            print(link + \"\\n\")\n",
    "    else:\n",
    "        print(\"요청 실패:\", res.status_code)\n",
    "print_news('사회')"
   ]
  },
  {
   "cell_type": "markdown",
   "id": "0c99e762",
   "metadata": {},
   "source": [
    "선택문제"
   ]
  },
  {
   "cell_type": "code",
   "execution_count": 24,
   "id": "af56cdcc",
   "metadata": {},
   "outputs": [
    {
     "name": "stdout",
     "output_type": "stream",
     "text": [
      "정치\n",
      "한덕수, 이완규·함상훈 헌법재판관 지명…이재명 \"대통령된 줄 착각\" //news.nate.com/view/20250408n32265?mid=n0200\n",
      "\n",
      "한화에어로, 유상증자 3.6조→2.3조…경영권 승계 논란 돌파구 될까 //news.nate.com/view/20250408n31417?mid=n0200\n",
      "\n",
      "\"이러다 계엄 선언할 판\"…'이완규 임명' 한덕수에 날 선 발언 [현장영상] //news.nate.com/view/20250408n32158?mid=n0200\n",
      "\n",
      "김동연 경기지사, 9일 대선 출마 선언…지사직 유지한 채 경선 참여 //news.nate.com/view/20250408n19888?mid=n0200\n",
      "\n",
      "이재명, 양자 대결 압도…무당층선 김문수에만 우세 [갤럽] //news.nate.com/view/20250408n31066?mid=n0200\n",
      "\n",
      "박지원 \"이완규 '국민의힘 활동' 사실이면 헌법재판관 무자격자\" //news.nate.com/view/20250408n32222?mid=n0200\n",
      "\n",
      "尹, 이르면 이번주 금요일 관저 퇴거…서초동 사저行 //news.nate.com/view/20250408n32172?mid=n0200\n",
      "\n",
      "탈북청소년학교, 지자체 유휴부지 매각특례 마련 //news.nate.com/view/20250408n32160?mid=n0200\n",
      "\n",
      "안철수 손가락 메모 '눈길'…윤석열 '王자 논란' 연상시켜 //news.nate.com/view/20250408n32125?mid=n0200\n",
      "\n",
      "우상호 \"우원식·이재명 개헌 공감했지만…李, 당과 공유 안해\" //news.nate.com/view/20250408n32103?mid=n0200\n",
      "\n",
      "\"한덕수의 인사쿠데타\"…민주·혁신 법사위원들, 지명 철회 촉구 //news.nate.com/view/20250408n32087?mid=n0200\n",
      "\n",
      "반도체법, 법안소위 통과 또 불발…민주 \"패스트트랙 검토\" //news.nate.com/view/20250408n32073?mid=n0200\n",
      "\n",
      "국민의힘 주진우 \"이재명이야말로 대통령 된 거로 착각\" //news.nate.com/view/20250408n32072?mid=n0200\n",
      "\n",
      "김문수, 대선 출마 선언…\"대한민국 다시 일으켜 세우겠다\" [종합] //news.nate.com/view/20250408n31764?mid=n0200\n",
      "\n",
      "'4년 중임제' 공감했던 이재명…\"블랙홀  빠진다\" 지도부 반발에 '개헌 유턴' //news.nate.com/view/20250408n30403?mid=n0200\n",
      "\n",
      "박찬대 \"한덕수, 尹 탄핵 국민 뜻 받들어 마은혁 헌법재판관 임명해야\" //news.nate.com/view/20250408n09893?mid=n0200\n",
      "\n",
      "'K-푸드' 수출 확대 '맞손'…재외동포청·aT 업무협약 체결 //news.nate.com/view/20250408n31981?mid=n0200\n",
      "\n",
      "野 법사위 \"한덕수, 재판관 지명 즉시 철회해야…법적 대응 가능\" //news.nate.com/view/20250408n31973?mid=n0200\n",
      "\n",
      "김문수, 오늘 장관직 사퇴…대선 출마 전망 //news.nate.com/view/20250408n09227?mid=n0200\n",
      "\n",
      "권성동 \"세계 관세 전쟁에 특단 조치 필요…10조 추경 계획 재검토해야\" //news.nate.com/view/20250408n08621?mid=n0200\n",
      "\n"
     ]
    }
   ],
   "source": [
    "import requests\n",
    "from bs4 import BeautifulSoup\n",
    "\n",
    "selection = {\n",
    "    \"최신뉴스\" : 100,\n",
    "    \"정치\" : 200,\n",
    "    \"경제\" : 300,\n",
    "    \"사회\" : 400,\n",
    "    \"세계\" : 500,\n",
    "    \"IT/과학\" : 600\n",
    "}\n",
    "\n",
    "def print_news(category):\n",
    "    url = \"https://news.nate.com/recent?mid=n0\"+str(selection[category])\n",
    "    print(category)\n",
    "\n",
    "    header = {\"user-agent\": \"Mozilla/5.0 (Windows NT 10.0; Win64; x64) AppleWebKit/537.36 (KHTML, like Gecko) Chrome/134.0.0.0 Safari/537.36\"}\n",
    "\n",
    "    res = requests.get(url, headers=header)\n",
    "\n",
    "    if res.ok:\n",
    "        soup= BeautifulSoup(res.text,\"html.parser\")\n",
    "        tags= soup.select(\"div.mlt01\")\n",
    "        \n",
    "    for tag in tags:\n",
    "        a_tag = tag.find(\"a\")\n",
    "        h2_tag = tag.find(\"h2\")\n",
    "        title = h2_tag.get_text(strip=True)\n",
    "        link  = a_tag['href']\n",
    "        print(title,link + \"\\n\")\n",
    "        \n",
    "print_news(\"정치\")"
   ]
  },
  {
   "cell_type": "markdown",
   "id": "90b64946",
   "metadata": {},
   "source": [
    "2-1. Nate 뉴스기사 제목 스크래핑하기 (필수)"
   ]
  },
  {
   "cell_type": "code",
   "execution_count": 1,
   "id": "0159db9c",
   "metadata": {},
   "outputs": [
    {
     "name": "stdout",
     "output_type": "stream",
     "text": [
      "======> https://news.nate.com/section?mid=n0100 최신뉴스 뉴스 <======\n"
     ]
    },
    {
     "data": {
      "text/html": [
       "<img src=\"https://thumbnews.nateimg.co.kr/news90///news.nateimg.co.kr/orgImg/na/2025/04/09/7225927_high.jpg\"/>"
      ],
      "text/plain": [
       "<IPython.core.display.Image object>"
      ]
     },
     "metadata": {},
     "output_type": "display_data"
    },
    {
     "name": "stdout",
     "output_type": "stream",
     "text": [
      "\n",
      "이완규 \"국힘 당적 보유한 적 없다, 정치활동 한 적 없어\"헌법재판관 후보자로 지명된 이완규 법제처장이 9일 오전 서울 여의도 국회에서 열린 제424회 국회(임시회) 법제사법위원회 제1차 전체회의에서 잠시 이석하고 ...\n",
      "https://news.nate.com/view/20250409n19005?mid=n0200\n"
     ]
    },
    {
     "data": {
      "text/html": [
       "<img src=\"https://thumbnews.nateimg.co.kr/news90///news.nateimg.co.kr/orgImg/yt/2025/04/09/PYH2025040906160001300_P2.jpg\"/>"
      ],
      "text/plain": [
       "<IPython.core.display.Image object>"
      ]
     },
     "metadata": {},
     "output_type": "display_data"
    },
    {
     "name": "stdout",
     "output_type": "stream",
     "text": [
      "\n",
      "李 대선출마 공식화…\"위대한 대한민국 향한 길 국민과 걷겠다\"(종합)대표직 사퇴…마지막 최고위서 \"국민이 역경 이겨낼 것, 저도 함께하겠다\" \"韓대행, 주가지수 얼마인지도 모를 것…꼼수 몰두 말고 국민 삶에 관심을\" (서울=연...\n",
      "https://news.nate.com/view/20250409n16925?mid=n0200\n"
     ]
    },
    {
     "data": {
      "text/html": [
       "<img src=\"https://thumbnews.nateimg.co.kr/news90///news.nateimg.co.kr/orgImg/mt/2025/04/09/mt_1744167845266_12692_0.jpg\"/>"
      ],
      "text/plain": [
       "<IPython.core.display.Image object>"
      ]
     },
     "metadata": {},
     "output_type": "display_data"
    },
    {
     "name": "stdout",
     "output_type": "stream",
     "text": [
      "\n",
      "'한덕수, 대통령몫 재판관 지명 불가' 법안, 野주도 법사위 통과[the300](상보)소급효 적용해 한덕수에게 적용 가능케 정청래 국회 법제사법위원회 위원장이 9일 오전 서울 여의도 국회에서 열린 제424회 국회(임시회) 법사위 ...\n",
      "https://news.nate.com/view/20250409n18227?mid=n0200\n"
     ]
    },
    {
     "data": {
      "text/html": [
       "<img src=\"https://thumbnews.nateimg.co.kr/news90///news.nateimg.co.kr/orgImg/yt/2025/04/09/PYH2025040802310001300_P2.jpg\"/>"
      ],
      "text/plain": [
       "<IPython.core.display.Image object>"
      ]
     },
     "metadata": {},
     "output_type": "display_data"
    },
    {
     "name": "stdout",
     "output_type": "stream",
     "text": [
      "\n",
      "우의장, 대선·개헌 동시투표론 사흘만 철회…\"대선 후 논의\"(종합)\"향후 각 정당 의견 수렴…대선주자들, 개헌 골자 공약 제시해달라\" 민주당 내부 '내각제 개헌' 비판에 \"합리적 토론 봉쇄하는 선동\" 반박 (서울=연합뉴스) 설승...\n",
      "https://news.nate.com/view/20250409n18751?mid=n0200\n"
     ]
    },
    {
     "data": {
      "text/html": [
       "<img src=\"https://thumbnews.nateimg.co.kr/news90///news.nateimg.co.kr/orgImg/yt/2025/04/09/PYH2025040710190001300_P2.jpg\"/>"
      ],
      "text/plain": [
       "<IPython.core.display.Image object>"
      ]
     },
     "metadata": {},
     "output_type": "display_data"
    },
    {
     "name": "stdout",
     "output_type": "stream",
     "text": [
      "\n",
      "국민의힘, 다음 달 3일 대선 후보 선출대선 경선 후보등록 이달 14∼15일 여론조사 불공정 시비 차단…'명태균 방지 조항' 도입키로 (서울=연합뉴스) 류미나 조다운 기자 = 국민의힘은 다음 달 3일 전...\n",
      "https://news.nate.com/view/20250409n18638?mid=n0200\n",
      "======> https://news.nate.com/section?mid=n0200 정치 뉴스 <======\n"
     ]
    },
    {
     "data": {
      "text/html": [
       "<img src=\"https://thumbnews.nateimg.co.kr/news90///news.nateimg.co.kr/orgImg/na/2025/04/09/7225927_high.jpg\"/>"
      ],
      "text/plain": [
       "<IPython.core.display.Image object>"
      ]
     },
     "metadata": {},
     "output_type": "display_data"
    },
    {
     "name": "stdout",
     "output_type": "stream",
     "text": [
      "\n",
      "이완규 \"국힘 당적 보유한 적 없다, 정치활동 한 적 없어\"헌법재판관 후보자로 지명된 이완규 법제처장이 9일 오전 서울 여의도 국회에서 열린 제424회 국회(임시회) 법제사법위원회 제1차 전체회의에서 잠시 이석하고 ...\n",
      "https://news.nate.com/view/20250409n19005?mid=n0200\n"
     ]
    },
    {
     "data": {
      "text/html": [
       "<img src=\"https://thumbnews.nateimg.co.kr/news90///news.nateimg.co.kr/orgImg/yt/2025/04/09/PYH2025040906160001300_P2.jpg\"/>"
      ],
      "text/plain": [
       "<IPython.core.display.Image object>"
      ]
     },
     "metadata": {},
     "output_type": "display_data"
    },
    {
     "name": "stdout",
     "output_type": "stream",
     "text": [
      "\n",
      "李 대선출마 공식화…\"위대한 대한민국 향한 길 국민과 걷겠다\"(종합)대표직 사퇴…마지막 최고위서 \"국민이 역경 이겨낼 것, 저도 함께하겠다\" \"韓대행, 주가지수 얼마인지도 모를 것…꼼수 몰두 말고 국민 삶에 관심을\" (서울=연...\n",
      "https://news.nate.com/view/20250409n16925?mid=n0200\n"
     ]
    },
    {
     "data": {
      "text/html": [
       "<img src=\"https://thumbnews.nateimg.co.kr/news90///news.nateimg.co.kr/orgImg/mt/2025/04/09/mt_1744167845266_12692_0.jpg\"/>"
      ],
      "text/plain": [
       "<IPython.core.display.Image object>"
      ]
     },
     "metadata": {},
     "output_type": "display_data"
    },
    {
     "name": "stdout",
     "output_type": "stream",
     "text": [
      "\n",
      "'한덕수, 대통령몫 재판관 지명 불가' 법안, 野주도 법사위 통과[the300](상보)소급효 적용해 한덕수에게 적용 가능케 정청래 국회 법제사법위원회 위원장이 9일 오전 서울 여의도 국회에서 열린 제424회 국회(임시회) 법사위 ...\n",
      "https://news.nate.com/view/20250409n18227?mid=n0200\n"
     ]
    },
    {
     "data": {
      "text/html": [
       "<img src=\"https://thumbnews.nateimg.co.kr/news90///news.nateimg.co.kr/orgImg/yt/2025/04/09/PYH2025040802310001300_P2.jpg\"/>"
      ],
      "text/plain": [
       "<IPython.core.display.Image object>"
      ]
     },
     "metadata": {},
     "output_type": "display_data"
    },
    {
     "name": "stdout",
     "output_type": "stream",
     "text": [
      "\n",
      "우의장, 대선·개헌 동시투표론 사흘만 철회…\"대선 후 논의\"(종합)\"향후 각 정당 의견 수렴…대선주자들, 개헌 골자 공약 제시해달라\" 민주당 내부 '내각제 개헌' 비판에 \"합리적 토론 봉쇄하는 선동\" 반박 (서울=연합뉴스) 설승...\n",
      "https://news.nate.com/view/20250409n18751?mid=n0200\n"
     ]
    },
    {
     "data": {
      "text/html": [
       "<img src=\"https://thumbnews.nateimg.co.kr/news90///news.nateimg.co.kr/orgImg/yt/2025/04/09/PYH2025040710190001300_P2.jpg\"/>"
      ],
      "text/plain": [
       "<IPython.core.display.Image object>"
      ]
     },
     "metadata": {},
     "output_type": "display_data"
    },
    {
     "name": "stdout",
     "output_type": "stream",
     "text": [
      "\n",
      "국민의힘, 다음 달 3일 대선 후보 선출대선 경선 후보등록 이달 14∼15일 여론조사 불공정 시비 차단…'명태균 방지 조항' 도입키로 (서울=연합뉴스) 류미나 조다운 기자 = 국민의힘은 다음 달 3일 전...\n",
      "https://news.nate.com/view/20250409n18638?mid=n0200\n",
      "======> https://news.nate.com/section?mid=n0300 경제 뉴스 <======\n"
     ]
    },
    {
     "data": {
      "text/html": [
       "<img src=\"https://thumbnews.nateimg.co.kr/news90///news.nateimg.co.kr/orgImg/mk/2025/04/09/news-p.v1.20250409.7ac01213edf4429bb74677e7f6765737_P1.jpg\"/>"
      ],
      "text/plain": [
       "<IPython.core.display.Image object>"
      ]
     },
     "metadata": {},
     "output_type": "display_data"
    },
    {
     "name": "stdout",
     "output_type": "stream",
     "text": [
      "\n",
      "\"과일로 간신히 연명합니다\"…원화값 폭락에 유학생들 '멘붕'계엄·관세정책 여파 불확실성 증대달러당 원화값 16년만 최저 수준고환율 직격탄 맞은 미국 유학생들일부 유학생들 휴학하거나 귀국도엔화당 원화값도 3년만 가...\n",
      "https://news.nate.com/view/20250409n17615?mid=n0300\n"
     ]
    },
    {
     "data": {
      "text/html": [
       "<img src=\"https://thumbnews.nateimg.co.kr/news90///news.nateimg.co.kr/orgImg/mk/2025/04/09/news-p.v1.20250408.96d46605438f4fef92e2397fb613309b_P1.png\"/>"
      ],
      "text/plain": [
       "<IPython.core.display.Image object>"
      ]
     },
     "metadata": {},
     "output_type": "display_data"
    },
    {
     "name": "stdout",
     "output_type": "stream",
     "text": [
      "\n",
      "\"우리는 못 받는거 아냐?\" 시한부 국민연금…이것 도입땐 16년 수명연장안상훈 의원, 보건복지부 추계 공개국민연금에 자동조정장치 도입 시기금 고갈 2072년으로 16년 연장이미 OECD 38개국중 24개국 도입도입 논의할 22대 연금특위 ...\n",
      "https://news.nate.com/view/20250409n02718?mid=n0300\n"
     ]
    },
    {
     "data": {
      "text/html": [
       "<img src=\"https://thumbnews.nateimg.co.kr/news90///news.nateimg.co.kr/orgImg/yt/2025/04/09/PYH2025010713940001300_P2.jpg\"/>"
      ],
      "text/plain": [
       "<IPython.core.display.Image object>"
      ]
     },
     "metadata": {},
     "output_type": "display_data"
    },
    {
     "name": "stdout",
     "output_type": "stream",
     "text": [
      "\n",
      "금융당국 \"이달 가계대출 분수령…토허제 풍선효과 면밀 점검\"\"금융권 월별·분기별 경영 목표에 맞춰 가계대출 관리 필요\" 은행권 가계대출 증가 상황에 따라 필요시 자율 관리 강화 (서울=연합뉴스) 이율 기자 = 금융당국...\n",
      "https://news.nate.com/view/20250409n18135?mid=n0300\n"
     ]
    },
    {
     "data": {
      "text/html": [
       "<img src=\"https://thumbnews.nateimg.co.kr/news90///news.nateimg.co.kr/orgImg/yt/2025/04/09/AKR20250409057000009_03_i.jpg\"/>"
      ],
      "text/plain": [
       "<IPython.core.display.Image object>"
      ]
     },
     "metadata": {},
     "output_type": "display_data"
    },
    {
     "name": "stdout",
     "output_type": "stream",
     "text": [
      "\n",
      "R 공포 더 커졌다…JP모건 \"소형주 지수 기준 美침체 확률 79%\"투자 등급 채권 기준 경기침체 가능성 0→25% 서머스 전 재무 \"침체로 가는중…실업자 200만명↑\" '닥터 둠' 루비니는 \"올해 미국 경제, 침체 피할 것\" 1분기 기...\n",
      "https://news.nate.com/view/20250409n14367?mid=n0300\n"
     ]
    },
    {
     "data": {
      "text/html": [
       "<img src=\"https://thumbnews.nateimg.co.kr/news90///news.nateimg.co.kr/orgImg/hr/2025/04/09/rcv.YNA.20250320.PYH2025032014580001300_P1.jpg\"/>"
      ],
      "text/plain": [
       "<IPython.core.display.Image object>"
      ]
     },
     "metadata": {},
     "output_type": "display_data"
    },
    {
     "name": "stdout",
     "output_type": "stream",
     "text": [
      "\n",
      "\"입금 먼저\"vs\"못 믿겠다\"…홈플러스, 이번엔 입점업체와 기싸움서울시내 한 홈플러스 매장 [연합] [헤럴드경제=신현주 기자] 홈플러스가 납품업체에 이어 입점업체(테넌트)와도 정산금 지급을 두고 갈등을 빚고 있다. 입점업...\n",
      "https://news.nate.com/view/20250409n12981?mid=n0300\n",
      "======> https://news.nate.com/section?mid=n0400 사회 뉴스 <======\n"
     ]
    },
    {
     "data": {
      "text/html": [
       "<img src=\"https://thumbnews.nateimg.co.kr/news90///news.nateimg.co.kr/orgImg/yt/2025/04/09/AKR20250408165500004_01_i.jpg\"/>"
      ],
      "text/plain": [
       "<IPython.core.display.Image object>"
      ]
     },
     "metadata": {},
     "output_type": "display_data"
    },
    {
     "name": "stdout",
     "output_type": "stream",
     "text": [
      "\n",
      "못 키운다며 떠난 주인…굶어 죽게 된 반려견 21마리의 비극동물보호법 위반 40대 남성, 1심서 징역형 집행유예 (서울=연합뉴스) 김준태 기자 = 반려견이 21마리까지 불어나 감당하기 어려운 처지가 되자 이들을 집에 놔두...\n",
      "https://news.nate.com/view/20250409n02868?mid=n0400\n"
     ]
    },
    {
     "data": {
      "text/html": [
       "<img src=\"https://thumbnews.nateimg.co.kr/news90///news.nateimg.co.kr/orgImg/jt/2025/04/09/20250409075543260001.png\"/>"
      ],
      "text/plain": [
       "<IPython.core.display.Image object>"
      ]
     },
     "metadata": {},
     "output_type": "display_data"
    },
    {
     "name": "stdout",
     "output_type": "stream",
     "text": [
      "\n",
      "하늘 양 살해교사 명재완, 범행 전 '초등학생 살인' 직접 검색[앵커]학교에서 초등학생을 살해한 교사 명재완 씨가 범행 직전 남편과 통화해 범행을 미리 예고했던 걸로 드러났습니다. '한 명만 걸리면 된다', '세 번의 기회...\n",
      "https://news.nate.com/view/20250409n06079?mid=n0400\n"
     ]
    },
    {
     "data": {
      "text/html": [
       "<img src=\"https://thumbnews.nateimg.co.kr/news90///news.nateimg.co.kr/orgImg/ae/2025/04/09/ae_1744160885130_707226_0.jpg\"/>"
      ],
      "text/plain": [
       "<IPython.core.display.Image object>"
      ]
     },
     "metadata": {},
     "output_type": "display_data"
    },
    {
     "name": "stdout",
     "output_type": "stream",
     "text": [
      "\n",
      "[단독]어린이보호구역서 묻지마 폭행…10대 불구속 송치서울 도심 한복판 어린이보호구역에서 처음 본 여성을 폭행한 10대가 검찰에 넘겨졌다.서울 광진경찰서는 상해 혐의로 10대 A군을 불구속 송치했다고 9일 밝혔다...\n",
      "https://news.nate.com/view/20250409n10994?mid=n0400\n"
     ]
    },
    {
     "data": {
      "text/html": [
       "<img src=\"https://thumbnews.nateimg.co.kr/news90///news.nateimg.co.kr/orgImg/ns/2025/04/09/NISI20250409_0001813189_web.jpg\"/>"
      ],
      "text/plain": [
       "<IPython.core.display.Image object>"
      ]
     },
     "metadata": {},
     "output_type": "display_data"
    },
    {
     "name": "stdout",
     "output_type": "stream",
     "text": [
      "\n",
      "아주대 의대 신입생 \"수강 신청 포기하고 수업 거부\"[수원=뉴시스] 아주대학교 의과대학 25학번 학생 일동 성명문. (사진=SNS 캡처) 2025.04.09. photo@newsis.com *재판매 및 DB 금지 [수원=뉴시스] 변근아 기자 =...\n",
      "https://news.nate.com/view/20250409n17062?mid=n0400\n"
     ]
    },
    {
     "data": {
      "text/html": [
       "<img src=\"https://thumbnews.nateimg.co.kr/news90///news.nateimg.co.kr/orgImg/cz/2025/04/09/cz_1744165566300_740481_0.jpg\"/>"
      ],
      "text/plain": [
       "<IPython.core.display.Image object>"
      ]
     },
     "metadata": {},
     "output_type": "display_data"
    },
    {
     "name": "stdout",
     "output_type": "stream",
     "text": [
      "\n",
      "[단독] 서울시 \"명일동 싱크홀 원인은 '터널공사'\"서울시가 강동구 명일동 싱크홀 사고와 관련해 지하안전정보시스템에 신고한 내용. /지하안전정보시스템서울시가 강동구 명일동 ‘싱크홀(땅 꺼짐)’ 사고의 발...\n",
      "https://news.nate.com/view/20250409n16258?mid=n0400\n",
      "======> https://news.nate.com/section?mid=n0500 세계 뉴스 <======\n"
     ]
    },
    {
     "data": {
      "text/html": [
       "<img src=\"https://thumbnews.nateimg.co.kr/news90///news.nateimg.co.kr/orgImg/ns/2025/04/09/NISI20250409_0001813052_web.gif\"/>"
      ],
      "text/plain": [
       "<IPython.core.display.Image object>"
      ]
     },
     "metadata": {},
     "output_type": "display_data"
    },
    {
     "name": "stdout",
     "output_type": "stream",
     "text": [
      "\n",
      "도미니카 나이트클럽 사고 79명 사망…사상자 계속 늘어(영상)[서울=뉴시스] 도미니카공화국 수도 산토도밍고 유명 나이트클럽 지붕이 무너져 주지사, 전 메이저리그 선수 등 최소 79명이 사망했다.(사진=데일리메일) *재판...\n",
      "https://news.nate.com/view/20250409n12991?mid=n0500\n"
     ]
    },
    {
     "data": {
      "text/html": [
       "<img src=\"https://thumbnews.nateimg.co.kr/news90///news.nateimg.co.kr/orgImg/yt/2025/04/09/PRU20250409168101009_P2.jpg\"/>"
      ],
      "text/plain": [
       "<IPython.core.display.Image object>"
      ]
     },
     "metadata": {},
     "output_type": "display_data"
    },
    {
     "name": "stdout",
     "output_type": "stream",
     "text": [
      "\n",
      "트럼프 \"이제 우리가 갈취할 차례…협상시까지 中에 104% 관세\"도쿄·서울 등 거론 \"美가 평화지켰으나 미국車 없다\"…\"의약품 관세 매우 금방 발표\" TSMC에 '최대 100% 관세 위협했다' 말하며 \"멍청한 반도체법 없이 투자유...\n",
      "https://news.nate.com/view/20250409n16157?mid=n0500\n"
     ]
    },
    {
     "data": {
      "text/html": [
       "<img src=\"https://thumbnews.nateimg.co.kr/news90///news.nateimg.co.kr/orgImg/yt/2025/04/09/PAP20250408048601009_P2.jpg\"/>"
      ],
      "text/plain": [
       "<IPython.core.display.Image object>"
      ]
     },
     "metadata": {},
     "output_type": "display_data"
    },
    {
     "name": "stdout",
     "output_type": "stream",
     "text": [
      "\n",
      "\"머스크, AI로 공무원 대화 감시…'트럼프 욕하나' 검열\"로이터 보도…\"공무원 대규모 해고에도 머스크 챗봇 그록 활용\" \"DOGE팀, '군 기밀 유출 논란' 채팅앱 시그널로 소통\"…보안 우려 (서울=연합뉴스) 임지우 기자 ...\n",
      "https://news.nate.com/view/20250409n06933?mid=n0500\n"
     ]
    },
    {
     "data": {
      "text/html": [
       "<img src=\"https://thumbnews.nateimg.co.kr/news90///news.nateimg.co.kr/orgImg/mk/2025/04/09/news-p.v1.20250409.624f73d1ee814e00b451b8d6fc34c7e2_P1.png\"/>"
      ],
      "text/plain": [
       "<IPython.core.display.Image object>"
      ]
     },
     "metadata": {},
     "output_type": "display_data"
    },
    {
     "name": "stdout",
     "output_type": "stream",
     "text": [
      "\n",
      "\"중국인이네? 미국서 당장 나가\"…일방적 추방 공포에 숨 못 쉬는 유학생들사소한 경범죄로도 취소돼비자 취소 되면 추방 대상“유학생 사이에 공포 퍼져” 최근 미국 대학에서 유학중인 외국인 학생들의 비자가 일방적으로 취소되는 일...\n",
      "https://news.nate.com/view/20250409n13110?mid=n0500\n"
     ]
    },
    {
     "data": {
      "text/html": [
       "<img src=\"https://thumbnews.nateimg.co.kr/news90///news.nateimg.co.kr/orgImg/yt/2025/04/09/AKR20250409048400073_01_i.jpg\"/>"
      ],
      "text/plain": [
       "<IPython.core.display.Image object>"
      ]
     },
     "metadata": {},
     "output_type": "display_data"
    },
    {
     "name": "stdout",
     "output_type": "stream",
     "text": [
      "\n",
      "일본서 백일해 급속 확산…작년 환자 수 넘어서(도쿄=연합뉴스) 경수현 특파원 = 면역력이 제대로 형성되지 않은 영유아에게 위험할 수도 있는 세균성 호흡기 질환인 백일해가 올해 들어 일본에서 유행하고 있...\n",
      "https://news.nate.com/view/20250409n09651?mid=n0500\n",
      "======> https://news.nate.com/section?mid=n0600 IT/과학 뉴스 <======\n"
     ]
    },
    {
     "data": {
      "text/html": [
       "<img src=\"https://thumbnews.nateimg.co.kr/news90///news.nateimg.co.kr/orgImg/ny/2025/04/09/AKR20250409093742488_01_i.jpg\"/>"
      ],
      "text/plain": [
       "<IPython.core.display.Image object>"
      ]
     },
     "metadata": {},
     "output_type": "display_data"
    },
    {
     "name": "stdout",
     "output_type": "stream",
     "text": [
      "\n",
      "\"캐릭터 얻어맞아 우울증\"…중국 게이머, 게임사 상대 소송중국의 한 게이머가 온라인 게임에서 자신의 캐릭터가 얻어 맞아 정신적 피해를 입었다며 게임 회사를 상대로 소송을 제기해 화제입니다. 현지시간 7일 홍콩 사...\n",
      "https://news.nate.com/view/20250409n09259?mid=n0600\n"
     ]
    },
    {
     "data": {
      "text/html": [
       "<img src=\"https://thumbnews.nateimg.co.kr/news90///news.nateimg.co.kr/orgImg/yt/2025/04/09/AKR20250408071000017_02_i.jpg\"/>"
      ],
      "text/plain": [
       "<IPython.core.display.Image object>"
      ]
     },
     "metadata": {},
     "output_type": "display_data"
    },
    {
     "name": "stdout",
     "output_type": "stream",
     "text": [
      "\n",
      "\"야간 근무자 심혈관질환 위험, 낮에만 식사하면 낮출 수 있어\"美 연구팀 \"식사 시간이 수면보다 더 큰 건강 위험 요소 가능성\" (서울=연합뉴스) 이주영 기자 = 심혈관 질환(CVD) 위험을 높이는 요인으로 꼽히는 야간 교대 근...\n",
      "https://news.nate.com/view/20250409n04317?mid=n0600\n"
     ]
    },
    {
     "data": {
      "text/html": [
       "<img src=\"https://thumbnews.nateimg.co.kr/news90///news.nateimg.co.kr/orgImg/mt/2025/04/09/mt_1744153865161_225287_0.jpg\"/>"
      ],
      "text/plain": [
       "<IPython.core.display.Image object>"
      ]
     },
     "metadata": {},
     "output_type": "display_data"
    },
    {
     "name": "stdout",
     "output_type": "stream",
     "text": [
      "\n",
      "\"아이폰 곧 300만원\" 미국서 패닉바잉…애플 시총 1150조 녹았다트럼프 '관세 역풍' 시총 2위로 추락 도널드 트럼프 미국 대통령의 관세 정책 불확실성이 이어지면서 애플이 8일(현지시간) 결국 시가총액 1위 자리를 마이크로...\n",
      "https://news.nate.com/view/20250409n04720?mid=n0600\n",
      "\n",
      "딥시크의 공습…미·중 AI 격차 확 줄었다1년 만에 대표모델 성능차 9.3% → 1.7% 한국은 투자 규모 9 → 11위로 뒷걸음 중국 인공지능(AI) 스타트업 딥시크의 AI 모델이 지난 1월 전 세계를 강타한 가운데 중국과 미국의 AI 기술 격차가 1년 만에 크게 좁혀...\n",
      "https://news.nate.com/view/20250409n02925?mid=n0600\n"
     ]
    },
    {
     "data": {
      "text/html": [
       "<img src=\"https://thumbnews.nateimg.co.kr/news90///news.nateimg.co.kr/orgImg/sv/2025/04/09/202059042_700.jpg\"/>"
      ],
      "text/plain": [
       "<IPython.core.display.Image object>"
      ]
     },
     "metadata": {},
     "output_type": "display_data"
    },
    {
     "name": "stdout",
     "output_type": "stream",
     "text": [
      "\n",
      "사람 태우고 산에서 말처럼 달린다…일본 네발로봇, 엑스포서 공개▲ 가와사키중공업 '클레오'\n",
      "\n",
      "마치 말처럼 달리는 네발 로봇이 오는 13일 개막하는 오사카·간사이 만국박람회(오사카 엑스포)에서 선보입니다.\n",
      "...\n",
      "https://news.nate.com/view/20250409n03053?mid=n0600\n"
     ]
    }
   ],
   "source": [
    "from urllib.parse import urljoin\n",
    "from IPython.display import Image, display\n",
    "import requests\n",
    "from bs4 import BeautifulSoup\n",
    "\n",
    "section_dict = {\n",
    "    '최신뉴스': 'n0100',\n",
    "    '정치': 'n0200',\n",
    "    '경제': 'n0300',\n",
    "    '사회': 'n0400',\n",
    "    '세계': 'n0500',\n",
    "    'IT/과학': 'n0600'\n",
    "}\n",
    "\n",
    "def print_nate_news(section_name):\n",
    "\n",
    "    mid = section_dict[section_name]\n",
    "    url = f\"https://news.nate.com/section?mid={mid}\"\n",
    "    print(f\"======> {url} {section_name} 뉴스 <======\")\n",
    "\n",
    "    headers = {\n",
    "        'user-agent': 'Mozilla/5.0 (Windows NT 10.0; Win64; x64) AppleWebKit/537.36 (KHTML, like Gecko) Chrome/135.0.0.0 Safari/537.36'\n",
    "    }\n",
    "\n",
    "    res = requests.get(url, headers=headers)\n",
    "    res.encoding = 'euc-kr' #nate는 utf-8이 아닌 euc-kr을 기본 인코딩으로 사용한다.\n",
    "\n",
    "    if res.ok:\n",
    "        soup = BeautifulSoup(res.text, 'html.parser')\n",
    "        a_tag_list = soup.select(\"div.mlt01 a\")[:5]  # 상위 5개만 출력\n",
    "\n",
    "        for a_tag in a_tag_list:\n",
    "            #이미지부터 출력\n",
    "            img_tag = a_tag.select_one('img') # 이미지 태그 추출\n",
    "            if img_tag and 'src' in img_tag.attrs:\n",
    "                img_src = img_tag['src']\n",
    "                img_url = urljoin(url, img_src)\n",
    "\n",
    "                # 이미지 출력 (저장 X)\n",
    "                try:\n",
    "                    display(Image(url=img_url))\n",
    "                except Exception as e:\n",
    "                    print(f\"이미지 출력 실패: {e}\")\n",
    "            print()\n",
    "\n",
    "\n",
    "            title = a_tag.get_text(strip=True)\n",
    "            link = a_tag['href']\n",
    "            if link.startswith('//'):\n",
    "                link = 'https:' + link\n",
    "            elif link.startswith('/'):\n",
    "                link = urljoin(url, link)\n",
    "            print(title)\n",
    "            print(link)\n",
    "\n",
    "    else:\n",
    "        print(f\"Error Code: {res.status_code}\")\n",
    "\n",
    "for section in section_dict:\n",
    "    print_nate_news(section)"
   ]
  },
  {
   "cell_type": "markdown",
   "id": "94610349",
   "metadata": {},
   "source": [
    "2-2. 하나의 네이버 웹툰과 1개의 회차에 대한 Image 다운로드 하기 (필수)"
   ]
  },
  {
   "cell_type": "code",
   "execution_count": 53,
   "id": "0ce0fd1c",
   "metadata": {},
   "outputs": [
    {
     "name": "stdout",
     "output_type": "stream",
     "text": [
      "[<img alt=\"comic content\" id=\"content_image_0\" src=\"https://image-comic.pstatic.net/webtoon/833255/49/20250310103947_792197c569e377c7f369fe9d6f2bd961_IMAG01_1.jpg\"/>, <img alt=\"comic content\" id=\"content_image_1\" src=\"https://image-comic.pstatic.net/webtoon/833255/49/20250310103947_792197c569e377c7f369fe9d6f2bd961_IMAG01_2.jpg\"/>, <img alt=\"comic content\" id=\"content_image_2\" src=\"https://image-comic.pstatic.net/webtoon/833255/49/20250310103947_792197c569e377c7f369fe9d6f2bd961_IMAG01_3.jpg\"/>, <img alt=\"comic content\" id=\"content_image_3\" src=\"https://image-comic.pstatic.net/webtoon/833255/49/20250310103947_792197c569e377c7f369fe9d6f2bd961_IMAG01_4.jpg\"/>, <img alt=\"comic content\" id=\"content_image_4\" src=\"https://image-comic.pstatic.net/webtoon/833255/49/20250310103947_792197c569e377c7f369fe9d6f2bd961_IMAG01_5.jpg\"/>, <img alt=\"comic content\" id=\"content_image_5\" src=\"https://image-comic.pstatic.net/webtoon/833255/49/20250310103947_792197c569e377c7f369fe9d6f2bd961_IMAG01_6.jpg\"/>, <img alt=\"comic content\" id=\"content_image_6\" src=\"https://image-comic.pstatic.net/webtoon/833255/49/20250310103947_792197c569e377c7f369fe9d6f2bd961_IMAG01_7.jpg\"/>, <img alt=\"comic content\" id=\"content_image_7\" src=\"https://image-comic.pstatic.net/webtoon/833255/49/20250310103947_792197c569e377c7f369fe9d6f2bd961_IMAG01_8.jpg\"/>, <img alt=\"comic content\" id=\"content_image_8\" src=\"https://image-comic.pstatic.net/webtoon/833255/49/20250310103947_792197c569e377c7f369fe9d6f2bd961_IMAG01_9.jpg\"/>, <img alt=\"comic content\" id=\"content_image_9\" src=\"https://image-comic.pstatic.net/webtoon/833255/49/20250310103947_792197c569e377c7f369fe9d6f2bd961_IMAG01_10.jpg\"/>, <img alt=\"comic content\" id=\"content_image_10\" src=\"https://image-comic.pstatic.net/webtoon/833255/49/20250310103947_792197c569e377c7f369fe9d6f2bd961_IMAG01_11.jpg\"/>, <img alt=\"comic content\" id=\"content_image_11\" src=\"https://image-comic.pstatic.net/webtoon/833255/49/20250310103947_792197c569e377c7f369fe9d6f2bd961_IMAG01_12.jpg\"/>, <img alt=\"comic content\" id=\"content_image_12\" src=\"https://image-comic.pstatic.net/webtoon/833255/49/20250310103947_792197c569e377c7f369fe9d6f2bd961_IMAG01_13.jpg\"/>, <img alt=\"comic content\" id=\"content_image_13\" src=\"https://image-comic.pstatic.net/webtoon/833255/49/20250310103947_792197c569e377c7f369fe9d6f2bd961_IMAG01_14.jpg\"/>, <img alt=\"comic content\" id=\"content_image_14\" src=\"https://image-comic.pstatic.net/webtoon/833255/49/20250310103947_792197c569e377c7f369fe9d6f2bd961_IMAG01_15.jpg\"/>, <img alt=\"comic content\" id=\"content_image_15\" src=\"https://image-comic.pstatic.net/webtoon/833255/49/20250310103947_792197c569e377c7f369fe9d6f2bd961_IMAG01_16.jpg\"/>, <img alt=\"comic content\" id=\"content_image_16\" src=\"https://image-comic.pstatic.net/webtoon/833255/49/20250310103947_792197c569e377c7f369fe9d6f2bd961_IMAG01_17.jpg\"/>, <img alt=\"comic content\" id=\"content_image_17\" src=\"https://image-comic.pstatic.net/webtoon/833255/49/20250310103947_792197c569e377c7f369fe9d6f2bd961_IMAG01_18.jpg\"/>, <img alt=\"comic content\" id=\"content_image_18\" src=\"https://image-comic.pstatic.net/webtoon/833255/49/20250310103947_792197c569e377c7f369fe9d6f2bd961_IMAG01_19.jpg\"/>, <img alt=\"comic content\" id=\"content_image_19\" src=\"https://image-comic.pstatic.net/webtoon/833255/49/20250310103947_792197c569e377c7f369fe9d6f2bd961_IMAG01_20.jpg\"/>, <img alt=\"comic content\" id=\"content_image_20\" src=\"https://image-comic.pstatic.net/webtoon/833255/49/20250310103947_792197c569e377c7f369fe9d6f2bd961_IMAG01_21.jpg\"/>, <img alt=\"comic content\" id=\"content_image_21\" src=\"https://image-comic.pstatic.net/webtoon/833255/49/20250310103947_792197c569e377c7f369fe9d6f2bd961_IMAG01_22.jpg\"/>, <img alt=\"comic content\" id=\"content_image_22\" src=\"https://image-comic.pstatic.net/webtoon/833255/49/20250310103947_792197c569e377c7f369fe9d6f2bd961_IMAG01_23.jpg\"/>]\n"
     ]
    }
   ],
   "source": [
    "from urllib.parse import urljoin\n",
    "from IPython.display import Image, display\n",
    "import requests\n",
    "from bs4 import BeautifulSoup\n",
    "import os\n",
    "\n",
    "def download_one_episode(title,num,url): \n",
    "    url = url\n",
    "    req_header = {\n",
    "        'referer': url\n",
    "    }\n",
    "\n",
    "    res = requests.get(url)\n",
    "    res.encoding = 'euc-kr' #nate는 utf-8이 아닌 euc-kr을 기본 인코딩으로 사용한다.\n",
    "\n",
    "    if res.ok:\n",
    "            # jpg 파일의 절대경로 url를 찾기\n",
    "        soup = BeautifulSoup(res.text, 'html.parser')\n",
    "        \n",
    "        img_tags = soup.select(\"img[src*='IMAG01']\")\n",
    "        # img src 를 저장할 list 선언\n",
    "        print(img_tags)\n",
    "        img_url_list = list()\n",
    "        for img_tag in img_tags:\n",
    "            #print(type(img_tag), img_tag.name, img_tag)\n",
    "            img_src = img_tag['src']\n",
    "            img_url_list.append(img_src)\n",
    "    \n",
    "        imgdir_name = os.path.join('img', title, str(num))\n",
    "        if not os.path.isdir(imgdir_name):\n",
    "            os.makedirs(imgdir_name,exist_ok=True)\n",
    "            \n",
    "        for img_url in img_url_list:\n",
    "            res = requests.get(img_url, headers=req_header)\n",
    "            if res.ok:\n",
    "                img_data = res.content\n",
    "                file_name = os.path.join(imgdir_name,os.path.basename(img_url))\n",
    "                with open(file_name,'wb') as f:\n",
    "                    f.write(img_data)\n",
    "    else:\n",
    "        print(f'Error Code = {res.status_code}')\n",
    "        \n",
    "download_one_episode('낢이 사는 이야기1', 48,'https://comic.naver.com/webtoon/detail?titleId=833255&no=49&week=tue')"
   ]
  },
  {
   "cell_type": "markdown",
   "id": "b847a3ea",
   "metadata": {},
   "source": [
    "2-3. 하나의 네이버 웹툰과 여러개의 회차에 대한 Image 다운로드 하기 (선택)\n",
    "페이지가 동적으로 로드 되서 되지 않는 것 같습니다. ㅠㅠ"
   ]
  },
  {
   "cell_type": "code",
   "execution_count": 61,
   "id": "e0235324",
   "metadata": {},
   "outputs": [
    {
     "name": "stdout",
     "output_type": "stream",
     "text": [
      "0개의 에피소드 링크를 찾았습니다.\n"
     ]
    }
   ],
   "source": [
    "from urllib.parse import urljoin\n",
    "from IPython.display import Image, display\n",
    "import requests\n",
    "from bs4 import BeautifulSoup\n",
    "import os\n",
    "from selenium import webdriver\n",
    "from selenium.webdriver.chrome.options import Options\n",
    "from webdriver_manager.chrome import ChromeDriverManager\n",
    "from selenium.webdriver.chrome.service import Service\n",
    "def download_one_episode(title,num,url): \n",
    "    url = url\n",
    "    req_header = {\n",
    "        'referer': url\n",
    "    }\n",
    "\n",
    "    res = requests.get(url)\n",
    "    res.encoding = 'euc-kr' #nate는 utf-8이 아닌 euc-kr을 기본 인코딩으로 사용한다.\n",
    "\n",
    "    if res.ok:\n",
    "            # jpg 파일의 절대경로 url를 찾기\n",
    "        soup = BeautifulSoup(res.text, 'html.parser')\n",
    "        \n",
    "        img_tags = soup.select(\"img[src*='IMAG01']\")\n",
    "        # img src 를 저장할 list 선언\n",
    "        img_url_list = list()\n",
    "        for img_tag in img_tags:\n",
    "            #print(type(img_tag), img_tag.name, img_tag)\n",
    "            img_src = img_tag['src']\n",
    "            img_url_list.append(img_src)\n",
    "    \n",
    "        imgdir_name = os.path.join('img', title, str(num))\n",
    "        if not os.path.isdir(imgdir_name):\n",
    "            os.makedirs(imgdir_name,exist_ok=True)\n",
    "            \n",
    "        for img_url in img_url_list:\n",
    "            res = requests.get(img_url, headers=req_header)\n",
    "            if res.ok:\n",
    "                img_data = res.content\n",
    "                file_name = os.path.join(imgdir_name,os.path.basename(img_url))\n",
    "                with open(file_name,'wb') as f:\n",
    "                    f.write(img_data)\n",
    "    else:\n",
    "        print(f'Error Code = {res.status_code}')\n",
    "        \n",
    "def download_all_episode(title, url):\n",
    "    options = Options()\n",
    "    options.add_argument(\"--headless\")\n",
    "    options.add_argument(\"--disable-gpu\")\n",
    "    options.add_argument(\"--no-sandbox\")\n",
    "\n",
    "    # 수정된 부분\n",
    "    service = Service(ChromeDriverManager().install())\n",
    "    driver = webdriver.Chrome(service=service, options=options)\n",
    "\n",
    "    driver.get(url)\n",
    "    driver.implicitly_wait(5)\n",
    "\n",
    "    html = driver.page_source\n",
    "    soup = BeautifulSoup(html, 'html.parser')\n",
    "\n",
    "    a_tags = soup.select('a[href*=\"/webtoon/detail?titleId=\"]')\n",
    "    episode_links = []\n",
    "\n",
    "    for tag in a_tags:\n",
    "        href = tag['href']\n",
    "        full_url = urljoin(\"https://comic.naver.com\", href)\n",
    "        episode_links.append(full_url)\n",
    "\n",
    "    episode_links = sorted(set(episode_links), reverse=False)\n",
    "\n",
    "    print(f\"{len(episode_links)}개의 에피소드 링크를 찾았습니다.\")\n",
    "    for idx, link in enumerate(episode_links, 1):\n",
    "        print(f\"{idx:03d}: {link}\")\n",
    "        download_one_episode(title, idx, link)\n",
    "\n",
    "    driver.quit()\n",
    "\n",
    "download_all_episode('무사만리행','https://comic.naver.com/webtoon/list?titleId=746857&tab=thu')"
   ]
  },
  {
   "cell_type": "code",
   "execution_count": null,
   "id": "a2b9b037",
   "metadata": {},
   "outputs": [],
   "source": []
  }
 ],
 "metadata": {
  "kernelspec": {
   "display_name": "base",
   "language": "python",
   "name": "python3"
  },
  "language_info": {
   "codemirror_mode": {
    "name": "ipython",
    "version": 3
   },
   "file_extension": ".py",
   "mimetype": "text/x-python",
   "name": "python",
   "nbconvert_exporter": "python",
   "pygments_lexer": "ipython3",
   "version": "3.12.7"
  }
 },
 "nbformat": 4,
 "nbformat_minor": 5
}
